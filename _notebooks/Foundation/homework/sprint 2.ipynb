{
 "cells": [
  {
   "cell_type": "markdown",
   "metadata": {},
   "source": [
    "## Anyi Wang Homework"
   ]
  },
  {
   "cell_type": "markdown",
   "metadata": {},
   "source": [
    "# 3.1"
   ]
  },
  {
   "cell_type": "markdown",
   "metadata": {},
   "source": [
    "### Popcorn Hacks"
   ]
  },
  {
   "cell_type": "code",
   "execution_count": null,
   "metadata": {},
   "outputs": [],
   "source": [
    "\n",
    "username = input(\"What is your username?\")\n",
    "user_age = input(\"What is your age?\")\n",
    "user_city = input(\"Which city do you live in?\")\n",
    "\n",
    "user_info_list = [username, user_age, user_hobby, user_city]\n",
    "user_info_dict = {\n",
    "    \"username\": username,\n",
    "    \"age\": user_age,\n",
    "    \"city\": user_city\n",
    "}\n",
    "\n",
    "print(user_info_list)\n",
    "print(user_info_dict)\n",
    "\n",
    "print(\"Hi, my name is \" + username + \", I'm \" + user_age + \" years old,\" + \", and I live in \" + user_city + \".\")\n"
   ]
  },
  {
   "cell_type": "markdown",
   "metadata": {},
   "source": [
    "### Homework Hacks"
   ]
  },
  {
   "cell_type": "code",
   "execution_count": null,
   "metadata": {
    "vscode": {
     "languageId": "javascript"
    }
   },
   "outputs": [],
   "source": [
    "\n",
    "let nameParts = fullName.split(\" \");\n",
    "let initials = nameParts[0][0] + nameParts[0][1]; \n",
    "let randomNum = Math.floor(Math.random() * 100); \n",
    "let uniqueId = initials + randomNum;\n",
    "\n",
    "let personInfo = {\n",
    "  fullName: fullName,\n",
    "  age: age,\n",
    "  email: email,\n",
    "  hobby: hobby,\n",
    "  dietaryPreferences: dietaryPreferences,\n",
    "  uniqueId: uniqueId\n",
    "};\n",
    "\n",
    "console.log(\"Personal Info:\");\n",
    "console.log(`- Full Name: ${personInfo.fullName}`);\n",
    "console.log(`- Age: ${personInfo.age}`);\n",
    "console.log(`- Email: ${personInfo.email}`);\n",
    "console.log(`- Hobby: ${personInfo.hobby}`);\n",
    "console.log(`- Dietary Preferences: ${personInfo.dietaryPreferences}`);\n",
    "console.log(`- Unique ID: ${personInfo.uniqueId}`);"
   ]
  },
  {
   "cell_type": "markdown",
   "metadata": {},
   "source": [
    "# 3.2"
   ]
  },
  {
   "cell_type": "markdown",
   "metadata": {},
   "source": [
    "### Hacks #1"
   ]
  },
  {
   "cell_type": "code",
   "execution_count": null,
   "metadata": {},
   "outputs": [],
   "source": [
    "physics_topics = {\n",
    "    \"Mechanics\": [\n",
    "        \"Newton's Laws\", \n",
    "        \"Work, Energy, and Power\", \n",
    "        \"Circular Motion\", \n",
    "        \"Momentum and Impulse\"\n",
    "    ],\n",
    "    \"Electromagnetism\": [\n",
    "        \"Coulomb's Law\", \n",
    "        \"Electric Fields\", \n",
    "        \"Magnetic Fields\", \n",
    "        \"Electromagnetic Induction\"\n",
    "    ],\n",
    "    \"Thermodynamics\": [\n",
    "        \"Laws of Thermodynamics\", \n",
    "        \"Heat Transfer\", \n",
    "        \"Carnot Cycle\", \n",
    "        \"Entropy\"\n",
    "    ],\n",
    "    \"Optics\": [\n",
    "        \"Reflection and Refraction\", \n",
    "        \"Lenses and Mirrors\", \n",
    "        \"Interference and Diffraction\", \n",
    "        \"Polarization\"\n",
    "    ],\n",
    "}\n",
    "\n",
    "for topic, subtopics in physics_topics.items():\n",
    "    print(f\"\\n{topic}:\")\n",
    "    for subtopic in subtopics:\n",
    "        print(f\"  - {subtopic}\")\n"
   ]
  },
  {
   "cell_type": "markdown",
   "metadata": {},
   "source": [
    "### Hacks #2"
   ]
  },
  {
   "cell_type": "code",
   "execution_count": null,
   "metadata": {},
   "outputs": [],
   "source": [
    "website = {\n",
    "    'About': ['Homwtown', 'Favorite Food', 'Music Taste'],\n",
    "    'Game': ['Snake', 'Cookie Clicker']\n",
    "}\n",
    "\n",
    "print(sprints['About'])\n",
    "if \"Hometown\" in website['About']:\n",
    "    print(True) \n",
    "else:\n",
    "    print(False)"
   ]
  },
  {
   "cell_type": "markdown",
   "metadata": {},
   "source": [
    "### Hacks #3"
   ]
  },
  {
   "cell_type": "code",
   "execution_count": null,
   "metadata": {},
   "outputs": [],
   "source": [
    "ice_cream_log = [\n",
    "    {\n",
    "        \"flavor\": \"Chocolate\",\n",
    "        \"price\": 15.0,\n",
    "        \"date\": \"2024-10-01\",\n",
    "        \"shop\": \"BQ\"\n",
    "    },\n",
    "    {\n",
    "        \"flavor\": \"Strawberry\",\n",
    "        \"price\": 12.5,\n",
    "        \"date\": \"2024-10-03\",\n",
    "        \"shop\": \"Häagen-Dazs\"\n",
    "    },\n",
    "    {\n",
    "        \"flavor\": \"Vanilla\",\n",
    "        \"price\": 16,\n",
    "        \"date\": \"2024-10-05\",\n",
    "        \"shop\": \"Venchi\"\n",
    "    }\n",
    "]\n",
    "\n",
    "for record in ice_cream_log:\n",
    "    print(f\"Date: {record['date']}\")\n",
    "    print(f\"Flavor: {record['flavor']}\")\n",
    "    print(f\"Price: ${record['price']}\")\n",
    "    print(f\"Shop: {record['shop']}\")\n",
    "    print(\"\\n\")"
   ]
  },
  {
   "cell_type": "markdown",
   "metadata": {},
   "source": [
    "### Homework"
   ]
  },
  {
   "cell_type": "code",
   "execution_count": null,
   "metadata": {},
   "outputs": [],
   "source": [
    "ice_cream_flavors = [\n",
    "    {\n",
    "        \"flavor\": \"Chocolate\",                    \n",
    "        \"calories_per_serving\": 210,              \n",
    "        \"price\": 3.50,                            \n",
    "        \"ingredients\": [\"cocoa\", \"sugar\", \"cream\"],  \n",
    "        \"is_dairy_free\": False,                   \n",
    "        \"origin\": (\"France\", 1900),               \n",
    "        \"toppings\": {\"sprinkles\", \"nuts\", \"whipped cream\"},  \n",
    "        \"seasonal\": None                          \n",
    "    },\n",
    "    {\n",
    "        \"flavor\": \"Strawberry\",                   \n",
    "        \"calories_per_serving\": 180,              \n",
    "        \"price\": 3.00,                            \n",
    "        \"ingredients\": [\"strawberries\", \"sugar\", \"cream\"],  \n",
    "        \"is_dairy_free\": False,                   \n",
    "        \"origin\": (\"USA\", 1851),                  \n",
    "        \"toppings\": {\"fresh fruit\", \"granola\"},   \n",
    "        \"seasonal\": \"Summer\"\n",
    "    }                      \n",
    "    {\n",
    "        \"flavor\": \"Mango Sorbet\",                 \n",
    "        \"calories_per_serving\": 150,              \n",
    "        \"price\": 4.00,                           \n",
    "        \"ingredients\": [\"mango puree\", \"sugar\", \"water\"],  \n",
    "        \"is_dairy_free\": True,                   \n",
    "        \"origin\": (\"India\", None),              \n",
    "        \"toppings\": {\"mint leaves\", \"lime zest\"}, \n",
    "        \"seasonal\": None                         \n",
    "    }\n",
    "]\n",
    "\n",
    "for flavor in ice_cream_flavors:\n",
    "    print(f\"Flavor: {flavor['flavor']}\")\n",
    "    print(f\"Calories per Serving: {flavor['calories_per_serving']}\")\n",
    "    print(f\"Price: ${flavor['price']:.2f}\")\n",
    "    print(f\"Ingredients: {', '.join(flavor['ingredients'])}\")\n",
    "    print(f\"Dairy Free: {flavor['is_dairy_free']}\")\n",
    "    print(f\"Origin: {flavor['origin'][0]} ({flavor['origin'][1]})\")\n",
    "    print(f\"Toppings: {', '.join(flavor['toppings'])}\")\n",
    "    print(f\"Seasonal: {flavor['seasonal']}\\n\")"
   ]
  },
  {
   "cell_type": "markdown",
   "metadata": {},
   "source": [
    "# 3.3"
   ]
  },
  {
   "cell_type": "code",
   "execution_count": null,
   "metadata": {},
   "outputs": [],
   "source": []
  },
  {
   "cell_type": "markdown",
   "metadata": {},
   "source": [
    "# 3.4"
   ]
  },
  {
   "cell_type": "markdown",
   "metadata": {},
   "source": [
    "### Popcorn Hacks"
   ]
  },
  {
   "cell_type": "code",
   "execution_count": null,
   "metadata": {
    "vscode": {
     "languageId": "javascript"
    }
   },
   "outputs": [],
   "source": [
    "function analyzeString(inputString) {\n",
    "    console.log(\"Analyzing String: \" + inputString);\n",
    "\n",
    "    const length = inputString.length;\n",
    "    console.log(\"Length: \" + length);\n",
    "\n",
    "    const upperCaseString = inputString.toUpperCase();\n",
    "    const lowerCaseString = inputString.toLowerCase();\n",
    "    console.log(\"Uppercase: \" + upperCaseString);\n",
    "    console.log(\"Lowercase: \" + lowerCaseString);\n",
    "\n",
    "    const slicedString = inputString.slice(0, 5);\n",
    "    console.log(\"Sliced (first 5 chars): \" + slicedString);\n",
    "\n",
    "    const substring = \"fun\";\n",
    "    const index = inputString.indexOf(substring);\n",
    "    console.log(\"Position of '\" + substring + \"': \" + index);\n",
    "    console.log(\"\"); \n",
    "}\n",
    "\n",
    "const testString = \"I love icecream!\";\n",
    "analyzeString(testString);\n"
   ]
  },
  {
   "cell_type": "markdown",
   "metadata": {},
   "source": [
    "### JavaScript Homework Hacks"
   ]
  },
  {
   "cell_type": "code",
   "execution_count": null,
   "metadata": {
    "vscode": {
     "languageId": "javascript"
    }
   },
   "outputs": [],
   "source": [
    "function isValidPassword(password) {\n",
    "    const minLength = 6; \n",
    "    const hasUpperCase = /[A-Z]/.test(password); \n",
    "    const hasLowerCase = /[a-z]/.test(password); \n",
    "    const hasNumbers = /[0-9]/.test(password); \n",
    "    const hasSpecialChars = /[!@#$%^&*(),.?\":{}|<>]/.test(password); \n",
    "    const isCommonPassword = checkCommonPassword(password); \n",
    "\n",
    "    if (password.length < minLength) {\n",
    "        console.log(\"Password must be at least \" + minLength + \" characters long.\");\n",
    "        return false;\n",
    "    }\n",
    "    if (!hasUpperCase) {\n",
    "        console.log(\"Password must contain at least one uppercase letter.\");\n",
    "        return false;\n",
    "    }\n",
    "    if (!hasLowerCase) {\n",
    "        console.log(\"Password must contain at least one lowercase letter.\");\n",
    "        return false;\n",
    "    }\n",
    "    if (!hasNumbers) {\n",
    "        console.log(\"Password must contain at least one number.\");\n",
    "        return false;\n",
    "    }\n",
    "    if (!hasSpecialChars) {\n",
    "        console.log(\"Password must contain at least one special character.\");\n",
    "        return false;\n",
    "    }\n",
    "    if (isCommonPassword) {\n",
    "        console.log(\"Password is too common. Please choose a different password.\");\n",
    "        return false;\n",
    "    }\n",
    "\n",
    "    console.log(\"Password is valid!\");\n",
    "    return true;\n",
    "}\n"
   ]
  }
 ],
 "metadata": {
  "language_info": {
   "name": "python"
  }
 },
 "nbformat": 4,
 "nbformat_minor": 2
}
