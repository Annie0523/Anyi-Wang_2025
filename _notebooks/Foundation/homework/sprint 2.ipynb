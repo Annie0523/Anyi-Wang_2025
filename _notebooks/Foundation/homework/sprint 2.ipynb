{
 "cells": [
  {
   "cell_type": "markdown",
   "metadata": {},
   "source": [
    "# 3.1"
   ]
  },
  {
   "cell_type": "markdown",
   "metadata": {},
   "source": [
    "### Popcorn Hacks"
   ]
  },
  {
   "cell_type": "code",
   "execution_count": null,
   "metadata": {},
   "outputs": [],
   "source": [
    "\n",
    "username = input(\"What is your username?\")\n",
    "user_age = input(\"What is your age?\")\n",
    "user_city = input(\"Which city do you live in?\")\n",
    "\n",
    "user_info_list = [username, user_age, user_hobby, user_city]\n",
    "user_info_dict = {\n",
    "    \"username\": username,\n",
    "    \"age\": user_age,\n",
    "    \"city\": user_city\n",
    "}\n",
    "\n",
    "print(user_info_list)\n",
    "print(user_info_dict)\n",
    "\n",
    "print(\"Hi, my name is \" + username + \", I'm \" + user_age + \" years old,\" + \", and I live in \" + user_city + \".\")\n"
   ]
  },
  {
   "cell_type": "markdown",
   "metadata": {},
   "source": [
    "### Homework Hacks"
   ]
  },
  {
   "cell_type": "code",
   "execution_count": null,
   "metadata": {
    "vscode": {
     "languageId": "javascript"
    }
   },
   "outputs": [],
   "source": [
    "\n",
    "let nameParts = fullName.split(\" \");\n",
    "let initials = nameParts[0][0] + nameParts[0][1]; \n",
    "let randomNum = Math.floor(Math.random() * 100); \n",
    "let uniqueId = initials + randomNum;\n",
    "\n",
    "let personInfo = {\n",
    "  fullName: fullName,\n",
    "  age: age,\n",
    "  email: email,\n",
    "  hobby: hobby,\n",
    "  dietaryPreferences: dietaryPreferences,\n",
    "  uniqueId: uniqueId\n",
    "};\n",
    "\n",
    "console.log(\"Personal Info:\");\n",
    "console.log(`- Full Name: ${personInfo.fullName}`);\n",
    "console.log(`- Age: ${personInfo.age}`);\n",
    "console.log(`- Email: ${personInfo.email}`);\n",
    "console.log(`- Hobby: ${personInfo.hobby}`);\n",
    "console.log(`- Dietary Preferences: ${personInfo.dietaryPreferences}`);\n",
    "console.log(`- Unique ID: ${personInfo.uniqueId}`);"
   ]
  },
  {
   "cell_type": "markdown",
   "metadata": {},
   "source": [
    "# 3.2"
   ]
  },
  {
   "cell_type": "code",
   "execution_count": null,
   "metadata": {
    "vscode": {
     "languageId": "javascript"
    }
   },
   "outputs": [],
   "source": []
  },
  {
   "cell_type": "code",
   "execution_count": null,
   "metadata": {},
   "outputs": [],
   "source": [
    "physics_topics = {\n",
    "    \"Mechanics\": [\n",
    "        \"Newton's Laws\", \n",
    "        \"Work, Energy, and Power\", \n",
    "        \"Circular Motion\", \n",
    "        \"Momentum and Impulse\"\n",
    "    ],\n",
    "    \"Electromagnetism\": [\n",
    "        \"Coulomb's Law\", \n",
    "        \"Electric Fields\", \n",
    "        \"Magnetic Fields\", \n",
    "        \"Electromagnetic Induction\"\n",
    "    ],\n",
    "    \"Thermodynamics\": [\n",
    "        \"Laws of Thermodynamics\", \n",
    "        \"Heat Transfer\", \n",
    "        \"Carnot Cycle\", \n",
    "        \"Entropy\"\n",
    "    ],\n",
    "    \"Optics\": [\n",
    "        \"Reflection and Refraction\", \n",
    "        \"Lenses and Mirrors\", \n",
    "        \"Interference and Diffraction\", \n",
    "        \"Polarization\"\n",
    "    ],\n",
    "    \"Modern Physics\": [\n",
    "        \"Quantum Mechanics\", \n",
    "        \"Theory of Relativity\", \n",
    "        \"Particle Physics\", \n",
    "        \"Wave-Particle Duality\"\n",
    "    ],\n",
    "    \"Fluid Dynamics\": [\n",
    "        \"Bernoulli's Principle\", \n",
    "        \"Viscosity\", \n",
    "        \"Archimedes' Principle\", \n",
    "        \"Laminar and Turbulent Flow\"\n",
    "    ]\n",
    "}\n",
    "\n",
    "for topic, subtopics in physics_topics.items():\n",
    "    print(f\"\\n{topic}:\")\n",
    "    for subtopic in subtopics:\n",
    "        print(f\"  - {subtopic}\")\n"
   ]
  },
  {
   "cell_type": "markdown",
   "metadata": {},
   "source": [
    "# 3.3"
   ]
  },
  {
   "cell_type": "code",
   "execution_count": null,
   "metadata": {},
   "outputs": [],
   "source": []
  },
  {
   "cell_type": "markdown",
   "metadata": {},
   "source": [
    "# 3.4"
   ]
  },
  {
   "cell_type": "markdown",
   "metadata": {},
   "source": [
    "### JavaScript Homework Hacks"
   ]
  },
  {
   "cell_type": "code",
   "execution_count": null,
   "metadata": {
    "vscode": {
     "languageId": "javascript"
    }
   },
   "outputs": [],
   "source": [
    "function isValidPassword(password) {\n",
    "    const minLength = 6; \n",
    "    const hasUpperCase = /[A-Z]/.test(password); \n",
    "    const hasLowerCase = /[a-z]/.test(password); \n",
    "    const hasNumbers = /[0-9]/.test(password); \n",
    "    const hasSpecialChars = /[!@#$%^&*(),.?\":{}|<>]/.test(password); \n",
    "    const isCommonPassword = checkCommonPassword(password); \n",
    "\n",
    "    if (password.length < minLength) {\n",
    "        console.log(\"Password must be at least \" + minLength + \" characters long.\");\n",
    "        return false;\n",
    "    }\n",
    "    if (!hasUpperCase) {\n",
    "        console.log(\"Password must contain at least one uppercase letter.\");\n",
    "        return false;\n",
    "    }\n",
    "    if (!hasLowerCase) {\n",
    "        console.log(\"Password must contain at least one lowercase letter.\");\n",
    "        return false;\n",
    "    }\n",
    "    if (!hasNumbers) {\n",
    "        console.log(\"Password must contain at least one number.\");\n",
    "        return false;\n",
    "    }\n",
    "    if (!hasSpecialChars) {\n",
    "        console.log(\"Password must contain at least one special character.\");\n",
    "        return false;\n",
    "    }\n",
    "    if (isCommonPassword) {\n",
    "        console.log(\"Password is too common. Please choose a different password.\");\n",
    "        return false;\n",
    "    }\n",
    "\n",
    "    console.log(\"Password is valid!\");\n",
    "    return true;\n",
    "}\n"
   ]
  }
 ],
 "metadata": {
  "language_info": {
   "name": "python"
  }
 },
 "nbformat": 4,
 "nbformat_minor": 2
}
