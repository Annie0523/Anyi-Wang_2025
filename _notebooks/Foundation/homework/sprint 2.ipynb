{
 "cells": [
  {
   "cell_type": "markdown",
   "metadata": {},
   "source": [
    "# 3.1"
   ]
  },
  {
   "cell_type": "markdown",
   "metadata": {},
   "source": [
    "### Popcorn Hacks"
   ]
  },
  {
   "cell_type": "code",
   "execution_count": null,
   "metadata": {},
   "outputs": [],
   "source": [
    "\n",
    "username = input(\"What is your username?\")\n",
    "user_age = input(\"What is your age?\")\n",
    "user_city = input(\"Which city do you live in?\")\n",
    "\n",
    "user_info_list = [username, user_age, user_hobby, user_city]\n",
    "user_info_dict = {\n",
    "    \"username\": username,\n",
    "    \"age\": user_age,\n",
    "    \"city\": user_city\n",
    "}\n",
    "\n",
    "print(user_info_list)\n",
    "print(user_info_dict)\n",
    "\n",
    "print(\"Hi, my name is \" + username + \", I'm \" + user_age + \" years old,\" + \", and I live in \" + user_city + \".\")\n"
   ]
  },
  {
   "cell_type": "markdown",
   "metadata": {},
   "source": [
    "### Homework Hacks"
   ]
  },
  {
   "cell_type": "code",
   "execution_count": null,
   "metadata": {
    "vscode": {
     "languageId": "javascript"
    }
   },
   "outputs": [],
   "source": [
    "\n",
    "let nameParts = fullName.split(\" \");\n",
    "let initials = nameParts[0][0] + nameParts[0][1]; \n",
    "let randomNum = Math.floor(Math.random() * 100); \n",
    "let uniqueId = initials + randomNum;\n",
    "\n",
    "let personInfo = {\n",
    "  fullName: fullName,\n",
    "  age: age,\n",
    "  email: email,\n",
    "  hobby: hobby,\n",
    "  dietaryPreferences: dietaryPreferences,\n",
    "  uniqueId: uniqueId\n",
    "};"
   ]
  },
  {
   "cell_type": "markdown",
   "metadata": {},
   "source": [
    "# 3.2"
   ]
  },
  {
   "cell_type": "code",
   "execution_count": null,
   "metadata": {
    "vscode": {
     "languageId": "javascript"
    }
   },
   "outputs": [],
   "source": []
  },
  {
   "cell_type": "code",
   "execution_count": null,
   "metadata": {},
   "outputs": [],
   "source": [
    "physics_topics = {\n",
    "    \"Mechanics\": [\n",
    "        \"Newton's Laws\", \n",
    "        \"Work, Energy, and Power\", \n",
    "        \"Circular Motion\", \n",
    "        \"Momentum and Impulse\"\n",
    "    ],\n",
    "    \"Electromagnetism\": [\n",
    "        \"Coulomb's Law\", \n",
    "        \"Electric Fields\", \n",
    "        \"Magnetic Fields\", \n",
    "        \"Electromagnetic Induction\"\n",
    "    ],\n",
    "    \"Thermodynamics\": [\n",
    "        \"Laws of Thermodynamics\", \n",
    "        \"Heat Transfer\", \n",
    "        \"Carnot Cycle\", \n",
    "        \"Entropy\"\n",
    "    ],\n",
    "    \"Optics\": [\n",
    "        \"Reflection and Refraction\", \n",
    "        \"Lenses and Mirrors\", \n",
    "        \"Interference and Diffraction\", \n",
    "        \"Polarization\"\n",
    "    ],\n",
    "    \"Modern Physics\": [\n",
    "        \"Quantum Mechanics\", \n",
    "        \"Theory of Relativity\", \n",
    "        \"Particle Physics\", \n",
    "        \"Wave-Particle Duality\"\n",
    "    ],\n",
    "    \"Fluid Dynamics\": [\n",
    "        \"Bernoulli's Principle\", \n",
    "        \"Viscosity\", \n",
    "        \"Archimedes' Principle\", \n",
    "        \"Laminar and Turbulent Flow\"\n",
    "    ]\n",
    "}\n",
    "\n",
    "for topic, subtopics in physics_topics.items():\n",
    "    print(f\"\\n{topic}:\")\n",
    "    for subtopic in subtopics:\n",
    "        print(f\"  - {subtopic}\")\n"
   ]
  },
  {
   "cell_type": "markdown",
   "metadata": {},
   "source": [
    "# 3.3"
   ]
  },
  {
   "cell_type": "code",
   "execution_count": null,
   "metadata": {},
   "outputs": [],
   "source": []
  }
 ],
 "metadata": {
  "language_info": {
   "name": "python"
  }
 },
 "nbformat": 4,
 "nbformat_minor": 2
}
