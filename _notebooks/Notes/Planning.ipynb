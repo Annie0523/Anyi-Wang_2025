{
 "cells": [
  {
   "cell_type": "code",
   "execution_count": null,
   "metadata": {},
   "outputs": [],
   "source": [
    "---\n",
    "layout: post\n",
    "title: \"Future Plans\"\n",
    "description: \"What I am going to do in the future. Code Code Code\"\n",
    "categories: [Project Planning]\n",
    "permalink: /planning/notes\n",
    "menu: nav/planning_setup.html\n",
    "toc: true\n",
    "comments: true\n",
    "---"
   ]
  },
  {
   "cell_type": "code",
   "execution_count": null,
   "metadata": {},
   "outputs": [],
   "source": [
    "# Planning Document\n",
    "\n",
    "## Goals vs Accomplishments\n",
    "\n",
    "### Goal 1: Create an interactive website with multiple notebooks\n",
    "- **Attempt**: Set up Jekyll and learned how to embed notebooks into the structure.\n",
    "- **Accomplishment**: Successfully linked notebooks and implemented various sections, including a planning document.\n",
    "\n",
    "### Goal 2: Enhance the website with custom scripts and interactive cells\n",
    "- **Attempt**: Tried incorporating JavaScript cells in one notebook.\n",
    "- **Accomplishment**: Implemented a basic JavaScript example and ensured it works within the notebook.\n",
    "\n",
    "### Goal 3: Share personal experiences and achievements through text and images\n",
    "- **Attempt**: Uploaded images and linked them with descriptions.\n",
    "- **Accomplishment**: Created a gallery of personal achievements, focusing on competitions and music.\n",
    "\n",
    "## Next Steps:\n",
    "1. Add more dynamic content using JavaScript and Python cells.\n",
    "2. Continue improving the visual design of the site.\n",
    "3. Explore advanced Markdown customization for better formatting.\n"
   ]
  }
 ],
 "metadata": {
  "language_info": {
   "name": "python"
  }
 },
 "nbformat": 4,
 "nbformat_minor": 2
}
